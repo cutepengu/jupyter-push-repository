{
 "cells": [
  {
   "attachments": {},
   "cell_type": "markdown",
   "metadata": {},
   "source": [
    "# Identifying and defining"
   ]
  },
  {
   "attachments": {},
   "cell_type": "markdown",
   "metadata": {},
   "source": [
    "### Learning Intentions"
   ]
  },
  {
   "attachments": {},
   "cell_type": "markdown",
   "metadata": {},
   "source": [
    "- Specify the functional requirements of a data analysis, including stating the purpose of a solution, describing use cases, and developing test cases of inputs and expected outputs.\n",
    "\n",
    "- Specify the non-functional requirements of a data analysis."
   ]
  },
  {
   "attachments": {},
   "cell_type": "markdown",
   "metadata": {},
   "source": [
    "### Success Criteria"
   ]
  },
  {
   "attachments": {},
   "cell_type": "markdown",
   "metadata": {},
   "source": [
    "I can clearly state the purpose of a data analysis solution.\n",
    "\n",
    "I can describe use cases that outline how the data analysis solution will be used.\n",
    "\n",
    "I can develop test cases that include inputs and expected outputs for the data analysis solution.\n",
    "\n",
    "I can specify non-functional requirements such as performance, scalability, security, and usability for a data analysis solution.\n",
    "\n",
    "I can explain the importance of non-functional requirements in ensuring the overall quality and effectiveness of a data analysis solution.\n"
   ]
  },
  {
   "attachments": {},
   "cell_type": "markdown",
   "metadata": {},
   "source": [
    "### Choose your Data Scenario and Define your Purpose"
   ]
  },
  {
   "attachments": {},
   "cell_type": "markdown",
   "metadata": {},
   "source": [
    "My data scenario is the statistics of death in different countries. The purpose of me choosing this data was because I want to be able to see the death rates around the world with more visibility and accuracy. Whilst I was browsing for the raw data, I discovered that it was hard to read the data. I want to transform the raw data into one which can be easily read by anyone. The data I extracted was from Kaggle by Willian Oliveira Gibin. The raw data I extracted has the causes of every death. Instead, I’d like to create a dataset without the reasons for deaths. Additionally, the data I extracted was available as a .csv file which was able to be downloaded freely. \n"
   ]
  },
  {
   "attachments": {},
   "cell_type": "markdown",
   "metadata": {},
   "source": [
    "### Functional Requirements"
   ]
  },
  {
   "attachments": {},
   "cell_type": "markdown",
   "metadata": {},
   "source": [
    "The functions I am considering for this task are: Data Loading, Data Cleaning, Data Analysis, Data Visualisation, Data Reporting.\n",
    "\n",
    "<span style='color:#5ba4a1'> Data Loading <span>\n",
    "- Description: The program I will be creating will be able to point out the mistakes in codes by highlighting the line of incorrect code. With visible help, users will be able to apply data loading with accuracy.\n",
    "- Input: \n",
    "- Output: Once the request is put in and the code has run, the program will find all the mistakes to be able to prevent incorrect data loading. \n",
    "\n",
    "<span style='color:#5ba4a1'> Data Cleaning <span>\n",
    "- Description: If users have missing values, my program will be able to suggest a different input. If not fixed by the user, the program will store the missing values and request the user for filtering, sorting, or grouping the data.\n",
    "- Input: \n",
    "- Output: Once a user powers the program, it will have a pop up on the bottom suggesting a change or a fix in a code.\n",
    "\n",
    "<span style='color:#5ba4a1'> Data Analysis <span>\n",
    "- Description: My program will need the following data: @@@@@@@@@ to allow the calculation of mean, median, mode, and such.\n",
    "- Input: \n",
    "- Output: If users input the necessary data and type in @@@@@@@, the program will be able to create an output of what the user needs with efficiency and accuracy. \n",
    "\n",
    "<span style='color:#5ba4a1'> Data Visualisation <span>\n",
    "- Description:  The data will have to be visualised as a pandas dataframe. Similar to the program Visual Studio Code, my program will require the user to type in import pandas as pd.\n",
    "- Input: \n",
    "- Output: Once the input is programmed, my program will be able to process the data and turn everything into a pandas dataframes. \n",
    "\n",
    "<span style='color:#5ba4a1'> Data Reporting <span> \n",
    "- Description: My program will include outputs which the user requests for such as the systems in data analysis like finding the mean, median, and mode.\n",
    "- Input: To allow this program to function, users will have to @@@@@@@@@@@.\n",
    "- Output: Once typed in, the program will run everything accordingly. However, it will not store the final dataset unless the user requests to save it by @@@@@@@@@@@@@@@.\n"
   ]
  },
  {
   "attachments": {},
   "cell_type": "markdown",
   "metadata": {},
   "source": [
    "### Use Cases"
   ]
  },
  {
   "attachments": {},
   "cell_type": "markdown",
   "metadata": {},
   "source": [
    "#### <span style='color:#5ba4a1'> Data Loading <span> \n",
    "Actor: User\n",
    "\n",
    "Goal: To allow users to obtain flawless codes.\n",
    "\n",
    "Preconditions: User has a dataset, a file and a code to run ready.\n",
    "\n",
    "Main Flow:\n",
    "1. User places the dataset for reading into the correct folder.\n",
    "2. User types in @@@@@@@@@ for the data loading code to run.\n",
    "3. System loads the dataset and displays a suggestion for the mistake in the code.\n",
    "\n",
    "Postconditions: Dataset is loaded and is of accuracy. "
   ]
  },
  {
   "attachments": {},
   "cell_type": "markdown",
   "metadata": {},
   "source": [
    "#### <span style='color:#5ba4a1'> Data Cleaning <span> \n",
    "Actor: User\n",
    "\n",
    "Goal: To gain accuracy in codes for correct and efficient data cleaning. \n",
    "\n",
    "Preconditions: \n",
    "\n",
    "Main Flow:\n",
    "1. User places the dataset for reading into the correct folder.\n",
    "2. \n",
    "3. \n",
    "\n",
    "Postconditions: Dataset is loaded and ready for analysis."
   ]
  },
  {
   "attachments": {},
   "cell_type": "markdown",
   "metadata": {},
   "source": [
    "#### <span style='color:#5ba4a1'> Data Analysis <span> \n",
    "Actor: User\n",
    "\n",
    "Goal: To find the correct data and statistics needed for data analysis.\n",
    "\n",
    "Preconditions: \n",
    "\n",
    "Main Flow:\n",
    "1. User places the dataset for reading into the correct folder.\n",
    "2. \n",
    "\n",
    "Postconditions: Dataset is loaded and ready for analysis."
   ]
  },
  {
   "attachments": {},
   "cell_type": "markdown",
   "metadata": {},
   "source": [
    "#### <span style='color:#5ba4a1'> Data Visualisation <span> \n",
    "Actor: User\n",
    "\n",
    "Goal: \n",
    "\n",
    "Preconditions: \n",
    "\n",
    "Main Flow:\n",
    "1. User places the dataset for reading into the correct folder.\n",
    "\n",
    "\n",
    "Postconditions: Dataset is loaded and ready for analysis."
   ]
  },
  {
   "attachments": {},
   "cell_type": "markdown",
   "metadata": {},
   "source": [
    "#### <span style='color:#5ba4a1'> Data Reporting <span> \n",
    "Actor: User\n",
    "\n",
    "Goal: \n",
    "\n",
    "Preconditions: \n",
    "\n",
    "Main Flow:\n",
    "1. User places the dataset for reading into the correct folder.\n",
    "\n",
    "\n",
    "Postconditions: Dataset is loaded and ready for analysis"
   ]
  }
 ],
 "metadata": {
  "language_info": {
   "name": "python"
  },
  "orig_nbformat": 4
 },
 "nbformat": 4,
 "nbformat_minor": 2
}
