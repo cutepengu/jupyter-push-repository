{
 "cells": [
  {
   "attachments": {},
   "cell_type": "markdown",
   "metadata": {},
   "source": [
    "# <span style='color:#457bba'> Identifying and Defining <span>"
   ]
  },
  {
   "attachments": {},
   "cell_type": "markdown",
   "metadata": {},
   "source": [
    "### Learning Intentions"
   ]
  },
  {
   "attachments": {},
   "cell_type": "markdown",
   "metadata": {},
   "source": [
    "- Specify the functional requirements of a data analysis, including stating the purpose of a solution, describing use cases, and developing test cases of inputs and expected outputs.\n",
    "\n",
    "- Specify the non-functional requirements of a data analysis."
   ]
  },
  {
   "attachments": {},
   "cell_type": "markdown",
   "metadata": {},
   "source": [
    "### Success Criteria"
   ]
  },
  {
   "attachments": {},
   "cell_type": "markdown",
   "metadata": {},
   "source": [
    "I can clearly state the purpose of a data analysis solution.\n",
    "\n",
    "I can describe use cases that outline how the data analysis solution will be used.\n",
    "\n",
    "I can develop test cases that include inputs and expected outputs for the data analysis solution.\n",
    "\n",
    "I can specify non-functional requirements such as performance, scalability, security, and usability for a data analysis solution.\n",
    "\n",
    "I can explain the importance of non-functional requirements in ensuring the overall quality and effectiveness of a data analysis solution.\n"
   ]
  },
  {
   "attachments": {},
   "cell_type": "markdown",
   "metadata": {},
   "source": [
    "### Choose your Data Scenario and Define your Purpose"
   ]
  },
  {
   "attachments": {},
   "cell_type": "markdown",
   "metadata": {},
   "source": [
    "My data scenario is the statistics of death in different countries. The purpose of me choosing this data was because I want to be able to see the death rates around the world with more visibility and accuracy. Whilst I was browsing for the raw data, I discovered that it was hard to read the data. I want to transform the raw data into one which can be easily read by anyone. The data I extracted was from Kaggle by Willian Oliveira Gibin. The raw data I extracted has the causes of every death. Instead, I’d like to create a dataset without the reasons for deaths. Additionally, the data I extracted was available as a .csv file which was able to be downloaded freely. \n"
   ]
  },
  {
   "attachments": {},
   "cell_type": "markdown",
   "metadata": {},
   "source": [
    "### Functional Requirements"
   ]
  },
  {
   "attachments": {},
   "cell_type": "markdown",
   "metadata": {},
   "source": [
    "The functions I will be applying for this task are: Data Loading, Data Cleaning, Data Analysis, Data Visualisation, Data Reporting. These functions will allow users to sort and create a dataset with no flaws and later consume the data to create a data frame where information will be able to be read with more clarity and less difficulty. \n",
    "\n",
    "<span style='color:#5ba4a1'> Data Loading <span>\n",
    "- Description: The program I will be creating will be able to sort the data which users put in and organise it into the most appropriate files/data warehouse. \n",
    "- Input: Users will require data to put in for the program to be achieved. \n",
    "- Output: Once the request is put in and the code has run, the program will load the user’s dataset into the appropriate data warehouse. \n",
    "\n",
    "<span style='color:#5ba4a1'> Data Cleaning <span>\n",
    "- Description: If for example users have missing values in their dataset, my program will be able to suggest a different input. If not fixed by the user, the program will store the missing values and request the user for filtering, sorting, or grouping the data.\n",
    "- Input: Users will require a code and run it in the program to be able to receive suggestions or minor edits for imperfections in codes.\n",
    "- Output: Once a user powers the program, it will have a pop up on the bottom suggesting a change or a fix in a code.\n",
    "\n",
    "<span style='color:#5ba4a1'> Data Analysis <span>\n",
    "- Description: My program will need processed and working data to allow the calculation of mean, median, mode, and such.\n",
    "- Input: Users will require a well running code and put in a request to calculate a certain thing in their dataset.\n",
    "- Output: If users input the necessary data and type in a request, the program will be able to create an output of what the user needs with efficiency and accuracy.\n",
    "\n",
    "<span style='color:#5ba4a1'> Data Visualisation <span>\n",
    "- Description:  The data will have to be visualised as a pandas dataframe. Similar to the program Visual Studio Code, my program will require the user to type in import pandas as pd.\n",
    "- Input: Users will require a fully processed data/code to make the program convert the data they have into a pandas frame. \n",
    "- Output: Once the input is programmed, my program will be able to process the data and turn everything into a pandas dataframes.\n",
    "\n",
    "<span style='color:#5ba4a1'> Data Reporting <span> \n",
    "- Description: My program will include outputs which the user requests for such as the systems in data analysis like finding the mean, median, and mode. This program will enhance the clarity of the dataset a user puts in and process the raw data into a processed data which can allow individuals to gain an insight.\n",
    "- Input: To allow this program to function, users will require a loaded and cleaned dataset. Then users will have to request an output for the program to function. \n",
    "- Output: Once the user has a correct dataset and an input, the program will be able to create valuable insights which will be processed from the user’s raw data."
   ]
  },
  {
   "attachments": {},
   "cell_type": "markdown",
   "metadata": {},
   "source": [
    "### Use Cases"
   ]
  },
  {
   "attachments": {},
   "cell_type": "markdown",
   "metadata": {},
   "source": [
    "##### <span style='color:#5ba4a1'> Data Loading <span> \n",
    "Actor: User\n",
    "\n",
    "Goal: To allow users to gain the right information in the needed data warehouse.\n",
    "\n",
    "Preconditions: User has a dataset, a file and a code to run ready.\n",
    "\n",
    "Main Flow:\n",
    "1. User places the dataset for reading into a folder.\n",
    "2. User requests the program for the data loading code to run.\n",
    "3. System loads the dataset and matches the dataset into the most appropriate warehouse.\n",
    "\n",
    "Postconditions: Dataset is loaded and is of accuracy in the appropriate warehouse and is ready for data cleaning."
   ]
  },
  {
   "attachments": {},
   "cell_type": "markdown",
   "metadata": {},
   "source": [
    "##### <span style='color:#5ba4a1'> Data Cleaning <span> \n",
    "Actor: User\n",
    "\n",
    "Goal: To gain accuracy in codes for correct and efficient data cleaning. \n",
    "\n",
    "Preconditions: User has a loaded dataset, a file and a code to run ready.\n",
    "\n",
    "Main Flow:\n",
    "1. User places the dataset for reading into the correct folder.\n",
    "2. User requests the program to load data.\n",
    "3. User requests the program to run data cleaning.\n",
    "4. If flawless, data cleaning is achieved.\n",
    "\n",
    "Postconditions: Dataset is loaded and ready for analysis."
   ]
  },
  {
   "attachments": {},
   "cell_type": "markdown",
   "metadata": {},
   "source": [
    "##### <span style='color:#5ba4a1'> Data Analysis <span> \n",
    "Actor: User\n",
    "\n",
    "Goal: To be able to clean, transform and model data to be able to extract key information.\n",
    "Preconditions: User has a loaded and cleaned dataset, a file and a code to run ready. \n",
    "\n",
    "Main Flow:\n",
    "1. User places the dataset for reading into the correct folder.\n",
    "2. User requests a data analysis which they require.\n",
    "3. System loads the required data.\n",
    "4. Users are provided with what they have requested.\n",
    "\n",
    "Postconditions: Dataset is analysed with the information the user requires."
   ]
  },
  {
   "attachments": {},
   "cell_type": "markdown",
   "metadata": {},
   "source": [
    "##### <span style='color:#5ba4a1'> Data Visualisation <span> \n",
    "Actor: User\n",
    "\n",
    "Goal: To frame the dataset into a more visible format.\n",
    "\n",
    "Preconditions: User has a loaded, cleaned, analysed data ready.\n",
    "\n",
    "Main Flow:\n",
    "1. User places the dataset for reading into the correct folder.\n",
    "2. System validates the file format.\n",
    "3. System loads the dataset and displays the information in a dataframe.\n",
    "\n",
    "Postconditions: Dataset is transformed into a pandas frame. \n"
   ]
  },
  {
   "attachments": {},
   "cell_type": "markdown",
   "metadata": {},
   "source": [
    "##### <span style='color:#5ba4a1'> Data Reporting <span> \n",
    "Actor: User\n",
    "\n",
    "Goal: To extract key information from a dataset.\n",
    "\n",
    "Preconditions:  User has a loaded, cleaned, analysed, framed dataset ready.\n",
    "\n",
    "Main Flow:\n",
    "1. User places the dataset in the correct folder.\n",
    "2. User requests for data reporting.\n",
    "3. System extracts key information.\n",
    "\n",
    "Postconditions: Data is extracted from dataset."
   ]
  },
  {
   "attachments": {},
   "cell_type": "markdown",
   "metadata": {},
   "source": [
    "### Non-Functional Requirements"
   ]
  },
  {
   "attachments": {},
   "cell_type": "markdown",
   "metadata": {},
   "source": [
    "- Usability: What is required from the User Interface and a 'README' document?\n",
    "\n",
    "- Reliability: What is required from the system when providing information to the user on errors and ensuring data integrity?"
   ]
  },
  {
   "attachments": {},
   "cell_type": "markdown",
   "metadata": {},
   "source": [
    "# <span style='color:#457bba'> Researching and Planning <span>"
   ]
  },
  {
   "attachments": {},
   "cell_type": "markdown",
   "metadata": {},
   "source": [
    "Learning Intentions:\n",
    "\n",
    "- Collect and interpret data while adhering to privacy and cybersecurity principles.\n",
    "- Represent and store data to facilitate computation, including selecting appropriate data types, understanding data type limitations, and structuring data systematically.\n"
   ]
  },
  {
   "attachments": {},
   "cell_type": "markdown",
   "metadata": {},
   "source": [
    "Success Criteria:\n",
    "- I can collect data following established privacy and cybersecurity principles to ensure data protection.\n",
    "- I can interpret data while maintaining compliance with privacy regulations and cybersecurity practices.\n",
    "- I can select appropriate data types for representing and storing data to facilitate computation.\n",
    "- I can structure data systematically to support efficient computation and analysis.\n"
   ]
  },
  {
   "attachments": {},
   "cell_type": "markdown",
   "metadata": {},
   "source": [
    "### Research of Chosen Issue"
   ]
  },
  {
   "attachments": {},
   "cell_type": "markdown",
   "metadata": {},
   "source": [
    "- Purpose: The purpose of this research is to be able to provide a clearer visualization of death statistics in Australia, over the years. I have chosen this information as the number of deaths tend to be rough and hard to see. Across different websites, there are also some mistakes in the count. So I want to be able to perform research on death statistics.\n",
    "\n",
    "- Missing Data: I feel that it is necessary to carry out this analysis as the current data and information can be hard for people to read and understand. With different sites  having different statistics, it can also confuse users and provide users with incorrect data/information.\n",
    "\n",
    "- Stakeholders: People like researchers will benefit from the information I will be creating and this is because my information will be way more clearer and correct, providing users with efficiency and accuracy. Furthermore, medical associates and students for example could benefit from my information as they could conduct research based on the topic of death statistics or simply learn in-depth of deaths which are occurring annually.\n",
    "\n",
    "- Use: The information which I extract and obtain from this data will be able to benefit those who want clearer and efficient data. This means that my program will be able to allow users to browse through the data with information which will be easier to read and interpret. Additionally, my program will be efficient, meaning that users will be able to spend less time analysing from the dataset which my program will provide them with."
   ]
  },
  {
   "attachments": {},
   "cell_type": "markdown",
   "metadata": {},
   "source": [
    "### Privacy and Security\n"
   ]
  },
  {
   "attachments": {},
   "cell_type": "markdown",
   "metadata": {},
   "source": [
    "- Data Privacy of Source: To be able to gather my data, I had to browse through other websites with raw data. To protect the participant’s privacy, the source will have to exclude any names or images etc of the participant. Because this dataset is about deaths, participant information must not be leaked and will not be leaked as deaths reported would be anonymous. \n",
    "\n",
    "- Application Data Privacy: My responsibilities in maintaining user privacy in terms of this data would mainly be ensuring anonymity and receiving user consent. This means that data we gain from families and communities will not be able to have identity such as names, addresses or even social security numbers. Because the information we require is sensitive, we will also require consent from individuals or families before we include information on individuals.\n",
    "\n",
    "- Cyber Security: \n",
    "As a programmer of sensitive data requiring death statistics, my program I will require the responsibility in maintaining user privacy and ensuring that no identifiable data is exposed. These would be the outline of my responsibilities:\n",
    "    - User Authentication / Authorization\n",
    "    - Data Encryption\n",
    "    - Secure Session Management\n",
    "    - Regular Security Updates\n",
    "    - User Education\n",
    "    - Password Hashing\n",
    "\n",
    "The purpose of some are:\n",
    "##### <span style='color:#5ba4a1'> User Authentication <span>\n",
    "- Purpose: To prevent access to the application and sensitive data.\n",
    "\n",
    "- Risk Without it: Without the use of strong authentication / authorization, hackers could easily gain information through users’ accounts or administrative functions, leading the program to data breaches, unauthorized actions, or even a whole system takeover.\n",
    "\n",
    "##### <span style='color:#5ba4a1'> Password Hashing <span>\n",
    "- Purpose: To protect users’ passwords and mitigate impact of data breaches.\n",
    "\n",
    "- Risk Without it: Without the use of password hashing, the system will gain exposure to something called ‘plain text passwords’. This is where if hackers gain a password to one plain text password, they will easily be able to immediately use all users’ passwords. The system can also gain an increased attack surface where without hashing, a data breach could lead to further security incidents than there were to be if password hashing was applied. \n",
    "\n",
    "##### <span style='color:#5ba4a1'> Encryption <span>\n",
    "- Purpose: To protect sensitive data, secure data transmission, and be able to apply compliance with regulations.\n",
    "\n",
    "- Risk Without It: Without the use of encryption where the system would convert the data into a secure format which is unreadable unless a user has a specific decryption key, data breaching will be way more frequent and will make it easier for hackers to read and exploit the program’s sensitive data and information. Furthermore, without data encryption, data transmitted over networks could be intercepted and altered by hackers, compressing the integrity of the communication. \n"
   ]
  },
  {
   "attachments": {},
   "cell_type": "markdown",
   "metadata": {},
   "source": [
    "### My Data Dictionary"
   ]
  },
  {
   "attachments": {
    "image.png": {
     "image/png": "[encoded data removed]"
    }
   },
   "cell_type": "markdown",
   "metadata": {},
   "source": [
    "![image.png](attachment:image.png)"
   ]
  }
 ],
 "metadata": {
  "language_info": {
   "name": "python"
  },
  "orig_nbformat": 4
 },
 "nbformat": 4,
 "nbformat_minor": 2
}
