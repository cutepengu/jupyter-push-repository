{
 "cells": [
  {
   "attachments": {},
   "cell_type": "markdown",
   "metadata": {},
   "source": [
    "### Guide to the program"
   ]
  },
  {
   "attachments": {},
   "cell_type": "markdown",
   "metadata": {},
   "source": [
    "My program is for any users who are wanting to find a correct source of data with a level of efficiency. In order for the program to function, users will require a .csv file with a set of data in it and a request for what they want e.g. finding the mean of a dataset. The steps to getting what you want to find through the use of the program will require the following:\n",
    "\n",
    "1. Open your file\n",
    "2. Run the program\n",
    "3. Test your file to make sure that it works\n",
    "4. Request a want by clicking on a number which shows up stating what you want\n",
    "5. Open the output\n",
    "6. Finished! \n"
   ]
  }
 ],
 "metadata": {
  "kernelspec": {
   "display_name": "Python 3",
   "language": "python",
   "name": "python3"
  },
  "language_info": {
   "codemirror_mode": {
    "name": "ipython",
    "version": 3
   },
   "file_extension": ".py",
   "mimetype": "text/x-python",
   "name": "python",
   "nbconvert_exporter": "python",
   "pygments_lexer": "ipython3",
   "version": "3.11.0"
  },
  "orig_nbformat": 4
 },
 "nbformat": 4,
 "nbformat_minor": 2
}
