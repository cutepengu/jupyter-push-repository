{
 "cells": [
  {
   "attachments": {},
   "cell_type": "markdown",
   "metadata": {},
   "source": [
    "### Choose your Data Scenario and Define your Purpose"
   ]
  },
  {
   "attachments": {},
   "cell_type": "markdown",
   "metadata": {},
   "source": [
    "My data scenario is the statistics of death in different countries. The purpose of me choosing this data was because I want to be able to see the death rates around the world with more visibility and accuracy. Whilst I was browsing for the raw data, I discovered that it was hard to read the data. I want to transform the raw data into one which can be easily read by anyone. The data I extracted was from Kaggle by Willian Oliveira Gibin. The raw data I extracted has the causes of every death. Instead, I’d like to create a dataset without the reasons for deaths. Additionally, the data I extracted was available as a .csv file which was able to be downloaded freely. \n"
   ]
  }
 ],
 "metadata": {
  "language_info": {
   "name": "python"
  },
  "orig_nbformat": 4
 },
 "nbformat": 4,
 "nbformat_minor": 2
}
